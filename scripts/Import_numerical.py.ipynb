{
 "cells": [
  {
   "cell_type": "code",
   "execution_count": 4,
   "id": "84e76ec0",
   "metadata": {},
   "outputs": [],
   "source": [
    "from src.numerical import add_numbers"
   ]
  },
  {
   "cell_type": "code",
   "execution_count": 6,
   "id": "48dfa364",
   "metadata": {},
   "outputs": [
    {
     "name": "stdout",
     "output_type": "stream",
     "text": [
      "Sum: 13.5\n"
     ]
    }
   ],
   "source": [
    "add_numbers(3.5, 10)"
   ]
  }
 ],
 "metadata": {
  "kernelspec": {
   "display_name": "git-training",
   "language": "python",
   "name": "git-training"
  },
  "language_info": {
   "codemirror_mode": {
    "name": "ipython",
    "version": 3
   },
   "file_extension": ".py",
   "mimetype": "text/x-python",
   "name": "python",
   "nbconvert_exporter": "python",
   "pygments_lexer": "ipython3",
   "version": "3.8.0"
  }
 },
 "nbformat": 4,
 "nbformat_minor": 5
}
